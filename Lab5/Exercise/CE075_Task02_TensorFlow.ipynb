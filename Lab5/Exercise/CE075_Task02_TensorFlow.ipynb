{
  "nbformat": 4,
  "nbformat_minor": 0,
  "metadata": {
    "colab": {
      "name": "CE075_Task02_TensorFlow.ipynb",
      "provenance": []
    },
    "kernelspec": {
      "name": "python3",
      "display_name": "Python 3"
    },
    "language_info": {
      "name": "python"
    }
  },
  "cells": [
    {
      "cell_type": "code",
      "metadata": {
        "id": "nX_znjGNBIwd"
      },
      "source": [
        "# Try Linear regression on same prediction data using Tensorflow"
      ],
      "execution_count": null,
      "outputs": []
    },
    {
      "cell_type": "code",
      "metadata": {
        "id": "kqm2nEYtBJrf"
      },
      "source": [
        "import numpy as np\n",
        "import pandas as pd \n",
        "import matplotlib.pyplot as plt\n",
        "%matplotlib inline\n",
        "import tensorflow as tf"
      ],
      "execution_count": 1,
      "outputs": []
    },
    {
      "cell_type": "code",
      "metadata": {
        "colab": {
          "base_uri": "https://localhost:8080/"
        },
        "id": "C48wPfOtBMqF",
        "outputId": "46e4df72-453b-4ce3-b684-edb02fbd3671"
      },
      "source": [
        "# Use seaborn for pairplot\n",
        "import seaborn as sns\n",
        "\n",
        "from tensorflow import keras\n",
        "from tensorflow.keras import layers\n",
        "from tensorflow.keras.layers.experimental import preprocessing\n",
        "\n",
        "print(tf.__version__)"
      ],
      "execution_count": 2,
      "outputs": [
        {
          "output_type": "stream",
          "name": "stdout",
          "text": [
            "2.6.0\n"
          ]
        }
      ]
    },
    {
      "cell_type": "code",
      "metadata": {
        "id": "QYRb-ZvtBPPJ"
      },
      "source": [
        "# Input (temp, rainfall, humidity)\n",
        "inputs = np.array([[73, 67, 43], [91, 88, 64], [87, 134, 58], [102, 43, 37], [69, 96, 70], [73, 67, 43], [91, 88, 64], [87, 134, 58], [102, 43, 37], [69, 96, 70], [73, 67, 43], [91, 88, 64], [87, 134, 58], [102, 43, 37], [69, 96, 70]], dtype='float32')\n",
        "# Targets (apples)\n",
        "targets = np.array([[56], [81], [119], [22], [103], \n",
        "                    [56], [81], [119], [22], [103], \n",
        "                    [56], [81], [119], [22], [103]], dtype='float32')"
      ],
      "execution_count": 3,
      "outputs": []
    },
    {
      "cell_type": "code",
      "metadata": {
        "id": "ODCWjzS0BQlN"
      },
      "source": [
        "df_inputs = pd.DataFrame(inputs, columns = ['temp','rainfall','humidity'])\n",
        "features = df_inputs.copy()\n",
        "train_features = features[:10]\n",
        "test_features = features[10:] \n",
        "\n",
        "df_targets = pd.DataFrame(targets, columns = ['apples'])\n",
        "label = df_targets.copy()\n",
        "train_label =  label[:10]\n",
        "test_label = label[10:]"
      ],
      "execution_count": 7,
      "outputs": []
    },
    {
      "cell_type": "code",
      "metadata": {
        "colab": {
          "base_uri": "https://localhost:8080/"
        },
        "id": "vDaQd_jHBSat",
        "outputId": "1da24662-7738-46f3-bd06-08a4d6e8c860"
      },
      "source": [
        "print(train_features)\n",
        "print(train_label)"
      ],
      "execution_count": 8,
      "outputs": [
        {
          "output_type": "stream",
          "name": "stdout",
          "text": [
            "    temp  rainfall  humidity\n",
            "0   73.0      67.0      43.0\n",
            "1   91.0      88.0      64.0\n",
            "2   87.0     134.0      58.0\n",
            "3  102.0      43.0      37.0\n",
            "4   69.0      96.0      70.0\n",
            "5   73.0      67.0      43.0\n",
            "6   91.0      88.0      64.0\n",
            "7   87.0     134.0      58.0\n",
            "8  102.0      43.0      37.0\n",
            "9   69.0      96.0      70.0\n",
            "   apples\n",
            "0    56.0\n",
            "1    81.0\n",
            "2   119.0\n",
            "3    22.0\n",
            "4   103.0\n",
            "5    56.0\n",
            "6    81.0\n",
            "7   119.0\n",
            "8    22.0\n",
            "9   103.0\n"
          ]
        }
      ]
    }
  ]
}