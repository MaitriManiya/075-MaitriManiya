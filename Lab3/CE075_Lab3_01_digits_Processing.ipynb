{
  "nbformat": 4,
  "nbformat_minor": 0,
  "metadata": {
    "colab": {
      "name": "Copy of 054_Lab3_02_digits_Processing.ipynb",
      "provenance": []
    },
    "kernelspec": {
      "name": "python3",
      "display_name": "Python 3"
    },
    "language_info": {
      "name": "python"
    }
  },
  "cells": [
    {
      "cell_type": "code",
      "metadata": {
        "colab": {
          "base_uri": "https://localhost:8080/"
        },
        "id": "wnj5oXPcYLsS",
        "outputId": "eebde84b-28b9-4c78-b536-754f71e0957c"
      },
      "source": [
        "from google.colab import drive\n",
        "drive.mount(\"/content/drive\")"
      ],
      "execution_count": null,
      "outputs": [
        {
          "output_type": "stream",
          "name": "stdout",
          "text": [
            "Mounted at /content/drive\n"
          ]
        }
      ]
    },
    {
      "cell_type": "markdown",
      "metadata": {
        "id": "HJuELwDPa85Y"
      },
      "source": [
        "# Roll number is **75** so I have to perform **ONE HOT ENCODING** on features"
      ]
    },
    {
      "cell_type": "code",
      "metadata": {
        "id": "-pDdGAYBYO6v"
      },
      "source": [
        "# Importing needful libraries\n",
        "\n",
        "import numpy as np\n",
        "import pandas as pd\n",
        "import matplotlib.pyplot as plt\n",
        "from sklearn import datasets, preprocessing\n",
        "\n",
        "# naive and gaussian model\n",
        "from sklearn.naive_bayes import GaussianNB, MultinomialNB\n",
        "from sklearn.model_selection import train_test_split\n",
        "\n",
        "# for accuracy\n",
        "from sklearn import metrics\n",
        "\n",
        "# print precision and recall\n",
        "from sklearn.metrics import precision_score\n",
        "from sklearn.metrics import recall_score"
      ],
      "execution_count": 2,
      "outputs": []
    },
    {
      "cell_type": "code",
      "metadata": {
        "id": "rGgPYX1sYkfr"
      },
      "source": [
        "# My roll number is 75 so I have to perform ONE HOT ENCODING on features\n",
        "\n",
        "from sklearn.datasets import load_digits"
      ],
      "execution_count": 6,
      "outputs": []
    },
    {
      "cell_type": "code",
      "metadata": {
        "colab": {
          "base_uri": "https://localhost:8080/",
          "height": 302
        },
        "id": "jwuo0c6LZ27v",
        "outputId": "f1cc8208-4106-4630-d225-80d971fc514b"
      },
      "source": [
        "# Loading digits dataset from sklearn\n",
        "\n",
        "main_data = load_digits()\n",
        "\n",
        "plt.figure(figsize = (20, 20))\n",
        "\n",
        "for i in range(16):\n",
        "    plt.subplot(8, 8, i + 1)\n",
        "    plt.imshow(main_data.images[i])"
      ],
      "execution_count": 7,
      "outputs": [
        {
          "output_type": "display_data",
          "data": {
            "image/png": "[encoded data removed]",
            "text/plain": [
              "<Figure size 1440x1440 with 16 Axes>"
            ]
          },
          "metadata": {
            "needs_background": "light"
          }
        }
      ]
    },
    {
      "cell_type": "code",
      "metadata": {
        "id": "g2iNJUMNr_Wv"
      },
      "source": [
        "from sklearn import preprocessing\n",
        "\n",
        "ohe = preprocessing.OneHotEncoder()"
      ],
      "execution_count": 8,
      "outputs": []
    },
    {
      "cell_type": "markdown",
      "metadata": {
        "id": "8comeL0Jg_Zx"
      },
      "source": [
        "\n",
        "\n",
        "```\n",
        "# This is formatted as code\n",
        "```\n",
        "\n",
        "# Roll No is **75** : Split **65**% - **35**%"
      ]
    },
    {
      "cell_type": "code",
      "metadata": {
        "id": "AjO2h-yvbnyi"
      },
      "source": [
        "from sklearn.model_selection import train_test_split\n",
        "\n",
        "X_train, X_test, Y_train, Y_test = train_test_split(main_data.data, main_data.target, test_size = 0.35, random_state = 48) "
      ],
      "execution_count": 10,
      "outputs": []
    },
    {
      "cell_type": "code",
      "metadata": {
        "colab": {
          "base_uri": "https://localhost:8080/"
        },
        "id": "k9pquAPAgVbp",
        "outputId": "7ddb1573-8b05-4c6d-eaf1-44cf55dce4ba"
      },
      "source": [
        "# Gaussina models\n",
        "\n",
        "gnb = GaussianNB()\n",
        "\n",
        "# train model\n",
        "gnb.fit(X_train, Y_train)\n",
        "\n",
        "# training completed\n",
        "Y_predicted = gnb.predict(X_test)\n",
        "\n",
        "print(f\"Accuracy :- {metrics.accuracy_score(Y_test, Y_predicted)}\")"
      ],
      "execution_count": 12,
      "outputs": [
        {
          "output_type": "stream",
          "name": "stdout",
          "text": [
            "Accuracy :- 0.8378378378378378\n"
          ]
        }
      ]
    },
    {
      "cell_type": "code",
      "metadata": {
        "id": "aP_9Uloo5hGH"
      },
      "source": [
        ""
      ],
      "execution_count": null,
      "outputs": []
    },
    {
      "cell_type": "markdown",
      "metadata": {
        "id": "dlrnt_PZhzEA"
      },
      "source": [
        "# **83** % Accuracy"
      ]
    },
    {
      "cell_type": "code",
      "metadata": {
        "colab": {
          "base_uri": "https://localhost:8080/"
        },
        "id": "6I6r-SEWhwLY",
        "outputId": "30a23648-472a-43ce-a0fd-a97455a467c7"
      },
      "source": [
        "main_data.images[3]"
      ],
      "execution_count": 13,
      "outputs": [
        {
          "output_type": "execute_result",
          "data": {
            "text/plain": [
              "array([[ 0.,  0.,  7., 15., 13.,  1.,  0.,  0.],\n",
              "       [ 0.,  8., 13.,  6., 15.,  4.,  0.,  0.],\n",
              "       [ 0.,  2.,  1., 13., 13.,  0.,  0.,  0.],\n",
              "       [ 0.,  0.,  2., 15., 11.,  1.,  0.,  0.],\n",
              "       [ 0.,  0.,  0.,  1., 12., 12.,  1.,  0.],\n",
              "       [ 0.,  0.,  0.,  0.,  1., 10.,  8.,  0.],\n",
              "       [ 0.,  0.,  8.,  4.,  5., 14.,  9.,  0.],\n",
              "       [ 0.,  0.,  7., 13., 13.,  9.,  0.,  0.]])"
            ]
          },
          "metadata": {},
          "execution_count": 13
        }
      ]
    },
    {
      "cell_type": "markdown",
      "metadata": {
        "id": "TR54hCAb7VCN"
      },
      "source": [
        "# True Prediction"
      ]
    },
    {
      "cell_type": "code",
      "metadata": {
        "colab": {
          "base_uri": "https://localhost:8080/",
          "height": 168
        },
        "id": "JnBMS03UjWKh",
        "outputId": "38b19a92-adfa-4811-fe21-b23ace09ca2e"
      },
      "source": [
        "_, axes = plt.subplots(nrows=1, ncols=4, figsize=(10, 3))\n",
        "for ax, image, prediction in zip(axes, X_test, Y_predicted):\n",
        "    ax.set_axis_off()\n",
        "    image = image.reshape(8, 8)\n",
        "    ax.imshow(image, cmap=plt.cm.gray_r, interpolation='nearest')\n",
        "    ax.set_title(f'Prediction: {prediction}')"
      ],
      "execution_count": 14,
      "outputs": [
        {
          "output_type": "display_data",
          "data": {
            "image/png": "[encoded data removed]",
            "text/plain": [
              "<Figure size 720x216 with 4 Axes>"
            ]
          },
          "metadata": {
            "needs_background": "light"
          }
        }
      ]
    },
    {
      "cell_type": "code",
      "metadata": {
        "colab": {
          "base_uri": "https://localhost:8080/"
        },
        "id": "jPSKGz7_7QjH",
        "outputId": "7b87f1c0-754f-488b-d3a8-985b485a5076"
      },
      "source": [
        "print(f\"Classification report for classifier {gnb}:\\n\"\n",
        "      f\"{metrics.classification_report(Y_test, Y_predicted)}\\n\")"
      ],
      "execution_count": 15,
      "outputs": [
        {
          "output_type": "stream",
          "name": "stdout",
          "text": [
            "Classification report for classifier GaussianNB(priors=None, var_smoothing=1e-09):\n",
            "              precision    recall  f1-score   support\n",
            "\n",
            "           0       0.98      0.96      0.97        67\n",
            "           1       0.70      0.90      0.79        77\n",
            "           2       0.94      0.69      0.79        64\n",
            "           3       0.94      0.79      0.86        58\n",
            "           4       0.93      0.78      0.85        67\n",
            "           5       0.91      0.84      0.87        50\n",
            "           6       0.92      0.97      0.95        71\n",
            "           7       0.76      0.94      0.84        62\n",
            "           8       0.61      0.77      0.68        64\n",
            "           9       0.92      0.69      0.79        49\n",
            "\n",
            "    accuracy                           0.84       629\n",
            "   macro avg       0.86      0.83      0.84       629\n",
            "weighted avg       0.86      0.84      0.84       629\n",
            "\n",
            "\n"
          ]
        }
      ]
    },
    {
      "cell_type": "code",
      "metadata": {
        "colab": {
          "base_uri": "https://localhost:8080/",
          "height": 504
        },
        "id": "0xG_RxGm7x1G",
        "outputId": "31d4b696-0701-4be4-891d-5a9e42f031cc"
      },
      "source": [
        "disp = metrics.plot_confusion_matrix(gnb, X_test, Y_test)\n",
        "disp.figure_.suptitle(\"Confusion Matrix\")\n",
        "print(f\"Confusion matrix:\\n{disp.confusion_matrix}\")\n",
        "\n",
        "plt.show()"
      ],
      "execution_count": 16,
      "outputs": [
        {
          "output_type": "stream",
          "name": "stdout",
          "text": [
            "Confusion matrix:\n",
            "[[64  1  0  0  2  0  0  0  0  0]\n",
            " [ 0 69  1  0  0  0  1  0  5  1]\n",
            " [ 0  5 44  0  0  0  2  0 13  0]\n",
            " [ 0  2  2 46  0  0  0  0  7  1]\n",
            " [ 1  3  0  0 52  0  2  8  1  0]\n",
            " [ 0  1  0  2  0 42  0  3  1  1]\n",
            " [ 0  1  0  0  0  1 69  0  0  0]\n",
            " [ 0  0  0  0  1  1  0 58  2  0]\n",
            " [ 0 11  0  1  0  1  0  2 49  0]\n",
            " [ 0  5  0  0  1  1  1  5  2 34]]\n"
          ]
        },
        {
          "output_type": "display_data",
          "data": {
            "image/png": "[encoded data removed]",
            "text/plain": [
              "<Figure size 432x288 with 2 Axes>"
            ]
          },
          "metadata": {
            "needs_background": "light"
          }
        }
      ]
    },
    {
      "cell_type": "code",
      "metadata": {
        "id": "7CUOzfhC79AO"
      },
      "source": [
        ""
      ],
      "execution_count": null,
      "outputs": []
    }
  ]
}